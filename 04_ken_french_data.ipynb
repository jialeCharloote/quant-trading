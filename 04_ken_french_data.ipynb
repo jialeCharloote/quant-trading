{
 "cells": [
  {
   "cell_type": "markdown",
   "metadata": {},
   "source": [
    "# 04. Ken French Data and Pandas DataReader\n",
    "\n",
    "Pandas DataReader is a powerful tool that provides easy access to various financial data sources through a consistent API.\n",
    "The [Ken French Data Library](https://mba.tuck.dartmouth.edu/pages/faculty/ken.french/data_library.html), accessible through pandas_datareader, offers a comprehensive collection of:\n",
    "\n",
    " - Historical stock returns organized into various portfolios\n",
    " - Risk factors (like market, size, value, momentum)\n",
    " - Pre-calculated research datasets commonly used in empirical asset pricing\n",
    "\n",
    "In this notebook, we'll explore how to access and use these datasets using pandas_datareader.\n",
    "\n",
    "## Browsing the Data\n",
    "\n",
    "First, let's see what datasets are available:\n"
   ]
  },
  {
   "cell_type": "code",
   "execution_count": null,
   "metadata": {},
   "outputs": [],
   "source": [
    "import warnings\n",
    "\n",
    "import pandas as pd\n",
    "from pandas_datareader.famafrench import get_available_datasets\n",
    "import pandas_datareader.data as web"
   ]
  },
  {
   "cell_type": "code",
   "execution_count": null,
   "metadata": {},
   "outputs": [],
   "source": [
    "len(get_available_datasets())"
   ]
  },
  {
   "cell_type": "code",
   "execution_count": null,
   "metadata": {},
   "outputs": [],
   "source": [
    "get_available_datasets()"
   ]
  },
  {
   "cell_type": "markdown",
   "metadata": {},
   "source": [
    "For this short demo, let's focus on `25_Portfolios_OP_INV_5x5_daily`, which is a dataset of 25 portfolios of stocks 25 sorted based on Operating Profitability and Investment\n",
    "\n",
    "Note that there are 3 that are very similar:\n",
    "\n",
    " - `25_Portfolios_OP_INV_5x5`\n",
    " - `25_Portfolios_OP_INV_5x5_Wout_Div`\n",
    " - `25_Portfolios_OP_INV_5x5_daily`\n",
    "\n",
    "You can find more information these portfolios [here:](https://mba.tuck.dartmouth.edu/pages/faculty/ken.french/Data_Library/tw_5_ports_op_inv.html)\n",
    "\n",
    "\n",
    "\n",
    "> **Univariate Sort Portfolios Formed on Investment**\n",
    ">\n",
    "> **Daily Returns**:\t \tJuly 1, 1963 - November 30, 2024\n",
    ">\n",
    "> **Monthly Returns**:\t \tJuly 1963 - November 2024\n",
    ">\n",
    "> **Annual Returns**:\t \t1964 - 2023\n",
    ">\n",
    "> **Construction**:\t \tThe portfolios, which are constructed at the end of each June, are the intersections of 5 portfolios formed on profitability (OP) and 5 portfolios formed on investment (Inv). OP for June of year t is annual revenues minus cost of goods sold, interest expense, and selling, general, and administrative expenses divided by book equity for the last fiscal year end in t-1. The OP breakpoints are NYSE quintiles. Investment is the change in total assets from the fiscal year ending in year t-2 to the fiscal year ending in t-1, divided by t-2 total assets. The Inv breakpoints are NYSE quintiles.\n",
    "> \t \t \n",
    "> Please be aware that some of the value-weight averages of operating profitability for deciles 1 and 10 are extreme. These are driven by extraordinary values of OP for individual firms. We have spot checked the accounting data that produce the extraordinary values and all the numbers we examined accurately reflect the data in the firm's accounting statements.\n",
    "> \t \t \n",
    ">**Stocks**:\t \tThe portfolios for July of year t to June of t+1 include all NYSE, AMEX, and NASDAQ stocks for which we have (positive) BE for t-1, total assets data for t-2 and t-1, non-missing revenues data for t-1, and non-missing data for at least one of the following: cost of goods sold, selling, general and administrative expenses, or interest expense for t-1.\n"
   ]
  },
  {
   "cell_type": "markdown",
   "metadata": {},
   "source": [
    "## DISCUSSION: Why characteristic-based portfolios?\n",
    "\n",
    "Suppose I thought that stocks with, say, high operating profitability and low investment are more likely to be undervalued. Why would I be interested in forming _portfolios_ based off of this characteristic rather just choose 1 or two stocks of companies that have high operating profitability and low investment?\n",
    "\n",
    " - Testing theories?\n",
    " - Diversification?"
   ]
  },
  {
   "cell_type": "markdown",
   "metadata": {},
   "source": [
    "## Accessing the Data\n",
    "\n",
    "### Portfolio Sorts, Characteristic-Based Portfolios"
   ]
  },
  {
   "cell_type": "code",
   "execution_count": null,
   "metadata": {},
   "outputs": [],
   "source": [
    "with warnings.catch_warnings():\n",
    "    warnings.filterwarnings(\n",
    "        \"ignore\",\n",
    "        category=FutureWarning,\n",
    "        message=\"The argument 'date_parser' is deprecated\",\n",
    "    )\n",
    "    ds = web.DataReader('25_Portfolios_OP_INV_5x5_daily', 'famafrench')\n"
   ]
  },
  {
   "cell_type": "code",
   "execution_count": null,
   "metadata": {},
   "outputs": [],
   "source": [
    "ds.keys()"
   ]
  },
  {
   "cell_type": "code",
   "execution_count": null,
   "metadata": {},
   "outputs": [],
   "source": [
    "ds"
   ]
  },
  {
   "cell_type": "code",
   "execution_count": null,
   "metadata": {},
   "outputs": [],
   "source": [
    "print(ds[\"DESCR\"])\n"
   ]
  },
  {
   "cell_type": "code",
   "execution_count": null,
   "metadata": {},
   "outputs": [],
   "source": [
    "ds[0].tail()"
   ]
  },
  {
   "cell_type": "code",
   "execution_count": null,
   "metadata": {},
   "outputs": [],
   "source": [
    "ds[0].info()"
   ]
  },
  {
   "cell_type": "markdown",
   "metadata": {},
   "source": [
    "### Benchmark Data\n",
    "\n",
    "Let's also download some benchmark data."
   ]
  },
  {
   "cell_type": "code",
   "execution_count": null,
   "metadata": {},
   "outputs": [],
   "source": [
    "with warnings.catch_warnings():\n",
    "    warnings.filterwarnings(\n",
    "        \"ignore\",\n",
    "        category=FutureWarning,\n",
    "        message=\"The argument 'date_parser' is deprecated\",\n",
    "    )\n",
    "    dbs = web.DataReader('F-F_Research_Data_Factors_daily', 'famafrench')\n",
    "\n",
    "dbs.keys()"
   ]
  },
  {
   "cell_type": "code",
   "execution_count": null,
   "metadata": {},
   "outputs": [],
   "source": [
    "print(dbs[\"DESCR\"])\n"
   ]
  },
  {
   "cell_type": "code",
   "execution_count": null,
   "metadata": {},
   "outputs": [],
   "source": [
    "dbs[0].tail()\n"
   ]
  },
  {
   "cell_type": "markdown",
   "metadata": {},
   "source": [
    "Note, based on the description provided, Ken French's 5x5 portfolios are formed using independent sorts, but with an important nuance:\n",
    "\n",
    "1. The breakpoints (quintiles) for both Operating Profitability and Investment are determined using **NYSE stocks only**\n",
    "\n",
    "2. However, the portfolios themselves include **all stocks** (NYSE, AMEX, and NASDAQ) that meet the data requirements\n",
    "\n",
    "This methodology means:\n",
    "- The breakpoints are not influenced by the typically smaller AMEX and NASDAQ stocks\n",
    "- When all stocks are sorted into the portfolios using these NYSE-based breakpoints, the resulting portfolios will likely NOT have equal value weights\n",
    "- This is intentional - it helps address issues with microcaps while still including the broader universe of stocks\n",
    "\n",
    "This is different from what you described with median cuts where you might expect equal weights. The use of NYSE breakpoints but all-stock portfolios means some portfolios (especially those containing small NASDAQ stocks) might end up with more firms but smaller total market cap than others.\n",
    "\n",
    "This methodology has become standard in the empirical asset pricing literature precisely because it handles the size-based peculiarities of the US stock market in a systematic way.\n"
   ]
  },
  {
   "cell_type": "markdown",
   "metadata": {},
   "source": [
    "## Performance Analysis\n",
    "\n",
    "Now, let's analyze the performance of one of these portfolios. Let's create a tear sheet for the portfolio.\n",
    "A \"tear sheet\" is a comprehensive summary of portfolio performance that includes key metrics and visualizations. Common components include:\n",
    "* Risk metrics (Sharpe ratio, maximum drawdown, Value at Risk)\n",
    "* Return statistics (CAGR, monthly/annual returns, win rates)\n",
    "* Risk-adjusted performance measures (Sortino ratio, Calmar ratio)\n",
    "* Visual analytics (drawdown plots, return distributions, rolling statistics)\n",
    "\n",
    "The [QuantStats package](https://github.com/ranaroussi/quantstats) is just a small, demo package that provides some quick analytics for use to work with. It combines statistical analysis with visualization capabilities, making it easy to create portfolio reports. The package can also generate HTML tear sheets that include a nice array of metrics and plots. In the future, you'll want to create your own customized code to create tear sheets. But, for now, let's use theirs.\n",
    "\n",
    "\n",
    "Here's a simple example. \n",
    "\n",
    "First, let's create a dataframe with the portfolio returns and the benchmark returns.\n"
   ]
  },
  {
   "cell_type": "code",
   "execution_count": null,
   "metadata": {},
   "outputs": [],
   "source": [
    "portfolio_returns = ds[0][[\"HiOP LoINV\"]]"
   ]
  },
  {
   "cell_type": "code",
   "execution_count": null,
   "metadata": {},
   "outputs": [],
   "source": [
    "portfolio_returns.tail()"
   ]
  },
  {
   "cell_type": "code",
   "execution_count": null,
   "metadata": {},
   "outputs": [],
   "source": [
    "df = pd.concat([portfolio_returns, dbs[0]], axis=1)\n",
    "df[\"Mkt\"] = df[\"Mkt-RF\"] + df[\"RF\"]\n",
    "\n",
    "# df.index = df.index.to_timestamp()\n",
    "\n",
    "df = df/100\n",
    "df.tail()\n",
    "\n"
   ]
  },
  {
   "cell_type": "code",
   "execution_count": null,
   "metadata": {},
   "outputs": [],
   "source": [
    "import quantstats as qs\n",
    "\n",
    "# qs.extend_pandas()\n",
    "\n",
    "# Generate HTML tear sheet comparing the portfolio to the S&P 500\n",
    "qs.reports.basic(df[\"HiOP LoINV\"], benchmark=df[\"Mkt\"], rf=df[\"RF\"].mean())\n"
   ]
  },
  {
   "cell_type": "code",
   "execution_count": null,
   "metadata": {},
   "outputs": [],
   "source": [
    "# qs.reports.full(df[\"HiOP LoINV\"], benchmark=df[\"Mkt\"], rf=df[\"RF\"].mean())"
   ]
  }
 ],
 "metadata": {
  "language_info": {
   "name": "python"
  }
 },
 "nbformat": 4,
 "nbformat_minor": 2
}
